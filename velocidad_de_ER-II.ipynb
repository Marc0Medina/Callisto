{
 "cells": [
  {
   "cell_type": "code",
   "execution_count": 1,
   "metadata": {},
   "outputs": [],
   "source": [
    "import matplotlib.pyplot as plt\n",
    "import pandas as pd"
   ]
  },
  {
   "cell_type": "code",
   "execution_count": 2,
   "metadata": {},
   "outputs": [
    {
     "name": "stdout",
     "output_type": "stream",
     "text": [
      "       Fecha         Hora  f_i  f_f  Δt TIPO  \\\n",
      "0   20151016  13:28-13:30  145  100   2   II   \n",
      "1   20151104  13:43-13:46   90   70   2   II   \n",
      "2   20160504  14:03-14:09   65   46   6   II   \n",
      "3   20160710  01:01-01:08  170   50   7   II   \n",
      "4   20170401  23:01-23:06  220   70   5   II   \n",
      "5   20171020  23:30-23:38  125   60   8   II   \n",
      "6   20170912  19:12-19:18   80   50   6   II   \n",
      "7   20210507  19:09-19:18   90   50   9   II   \n",
      "8   20210923  15:28-15:32  120   50   4  II?   \n",
      "9   20211028  15:28-15:50   90   50  22   II   \n",
      "10  20220302  17:39-17:56   90   50  17   II   \n",
      "11  20220314  17:21-17:37   70   50  16   II   \n",
      "12  20220330  17:31-17:55  100   50  14   II   \n",
      "13  20220331  18:34-18:55   80   60  21   II   \n",
      "14  20220402  13:23-13:38   90   50  15   II   \n",
      "15  20220510  13:58-14:22   80   45  24   II   \n",
      "16  20220511  18:39-18:50   90   45  11   II   \n",
      "17  20220511  18:57-19:15   80   45   9   II   \n",
      "18  20220524  22:22-22:32   60   45  10   II   \n",
      "19  20220525  18:17-18:23   80   55   6   II   \n",
      "20  20220528  16:00-16:11   55   45  11   II   \n",
      "21  20220709  13:51-14:05   70   45  14   II   \n",
      "22  20220803  17:12-17:21   90   55   9   II   \n",
      "23  20220819  20:32-20:39   70   50   7   II   \n",
      "24  20220828  16:09-16:12   90   50   3   II   \n",
      "25  20220829  16:55-17:03   70   45   8  II?   \n",
      "\n",
      "                                       VISTO POR      Fecha1 Hora_i Hora_pk  \\\n",
      "0                                         MEXART  2015-10-16  13:20   13:24   \n",
      "1                                         MEXART  2015-11-04  13:31   13:52   \n",
      "2                                         MEXART  2016-05-04  13:41   13:51   \n",
      "3                                         MEXART  2016-07-10  00:53   00:59   \n",
      "4                                         MEXART  2017-04-01  22:59   23:03   \n",
      "5                                         MEXART  2017-10-20  23:10   23:28   \n",
      "6                                         MEXART  2017-09-12  19:03   19:20   \n",
      "7                                         MEXART  2021-05-07  18:43   19:04   \n",
      "8                                         MEXART  2021-09-23  15:23   15:28   \n",
      "9                                         MEXART  2021-10-28  15:17   15:35   \n",
      "10                                        MEXART  2022-03-02  17:31   17:39   \n",
      "11                                        MEXART           -      -       -   \n",
      "12  MEXART, MEXICO-LANCE-A, MEXICO-LANCE-B, UNAM  2022-03-30  17:21   17:37   \n",
      "13                                        MEXART  2022-03-31  18:17   18:35   \n",
      "14                                        MEXART  2022-04-02  12:56   13:55   \n",
      "15        MEXART, MEXICO-LANCE-A, MEXICO-LANCE-B  2022-05-10  13:50   13:55   \n",
      "16                MEXICO-LANCE-A, MEXICO-LANCE-B  2022-05-11  18:08   18:58   \n",
      "17                MEXICO-LANCE-A, MEXICO-LANCE-B  2022-05-11  18:13   18:58   \n",
      "18                MEXICO-LANCE-A, MEXICO-LANCE-B  2022-05-24  22:03   22:17   \n",
      "19        MEXART, MEXICO-LANCE-A, MEXICO-LANCE-B  2022-05-25  18:09   18:24   \n",
      "20              (MEXICO-LANCE-A, MEXICO-LANCE-B)  2022-05-28  15:30   15:43   \n",
      "21            (MEXICO-LANCE-A), (MEXICO-LANCE-B)  2022-07-09  13:29   13:48   \n",
      "22                          MEXART, MEXICO-LANCE  2022-08-03  16:54   17:08   \n",
      "23                                  MEXICO-LANCE  2022-08-19  20:19   20:31   \n",
      "24                                  MEXICO-LANCE  2022-08-28  15:48   16:19   \n",
      "25                                  MEXICO-LANCE  2022-08-29  16:11   17:05   \n",
      "\n",
      "   Hora_f Clase   Lugar    RA    Fecha2 Hora.1   PA    W     V srbhconcmeh  \n",
      "0   13:28  C4.3  S13E82  2435  20151016  13:36  103   16   412         3.5  \n",
      "1   14:13  M3.7  N08W02  2443  20151104  14:24  204  226   466         3.8  \n",
      "2   14:07  C1.3  N06W61  2535  20160504  14:24  204  226   466           3  \n",
      "3   01:03  C8.6  N12E67  2564         -      -    -    -     -         2.3  \n",
      "4   23:05  C5.1  S11W05  2645         -      -    -    -     -           7  \n",
      "5   23:37  M1.1  S12E88  2685  20171021  00:00   94   86   337         3.6  \n",
      "6   19:28  C1.6  N07E41  2680  20170912  19:12  271  113   476         1.8  \n",
      "7   19:19  M3.9  N17E78  2822  20210507  19:24   79   72   625         2.5  \n",
      "8   15:39  M1.8  S29E16  2871  20210923  16:24  176   58   395         0.9  \n",
      "9   15:48  X1.0  S28W01  2887  20211028  16:00  191  340  1077         1.1  \n",
      "10  17:47  M2.0  N15E29  2958  20220302  18:24   79   56   339         3.5  \n",
      "11      -     -       -     -  20220314  17:36  268  106   600           2  \n",
      "12  17:46  X1.3  N13W31  2975  20220330  18:00  278  138   577         1.8  \n",
      "13  18:45  M9.6  N12W47  2975         -      -    -    -     -         1.1  \n",
      "14  14:44  M3.9  N12W68  2984  20220402  13:36  263  104   844           1  \n",
      "15  13:59  X1.5  S29W04  3006  20220510  14:36  214   10   172         1.1  \n",
      "16  20:50  M2.7  S17W89  3004  20220511  20:12  197  100   637         2.1  \n",
      "17  19:27  M2.6  S17W89  3004  20220511  19:48  339  272   781         4.2  \n",
      "18  22:25  C5.1  S11E79  3023  20220524  23:12   77  128   397           1  \n",
      "19  18:43  M1.3  S19W41  3016  20220525  18:36  248  118   762         1.4  \n",
      "20  15:52  C1.3  S18E49  3023  20220528  16:00  227   32  1644           5  \n",
      "21  14:05  C8.5  S22W88  3047  20220709  13:48  257   16   440           -  \n",
      "22  17:13  C6.9  S13W22  3068         -      -    -    -     -           -  \n",
      "23  20:42  C6.7  S26W55  3078  20220819  20:36  221   16   434           -  \n",
      "24  16:46  M6.7  S30W85  3088  20220828  15:48  228   62  1276           -  \n",
      "25  18:00  M2.5  S28W85  3088  20220829  16:48  240   78   664           -  \n"
     ]
    }
   ],
   "source": [
    "df = pd.read_csv(\"2.txt\",header=18 , sep=\"\\t\")\n",
    "print(df)\n",
    "from scipy import stats\n"
   ]
  },
  {
   "cell_type": "code",
   "execution_count": 3,
   "metadata": {},
   "outputs": [],
   "source": [
    "#df['srbhconcmeh'].mean()\n"
   ]
  },
  {
   "cell_type": "code",
   "execution_count": 4,
   "metadata": {},
   "outputs": [],
   "source": [
    "#stats.pearsonr(df['V'], df['Vel'])"
   ]
  },
  {
   "cell_type": "code",
   "execution_count": 5,
   "metadata": {
    "scrolled": false
   },
   "outputs": [],
   "source": [
    "#Quitar los eventos con - v\n",
    "ndf=pd.DataFrame(df)\n",
    "quitar=[]\n",
    "for a in range(len(df.Fecha)):\n",
    "    #print(df.iloc[a][-1])\n",
    "    if ndf.iloc[a][-2] == '-':\n",
    "        #print(a)\n",
    "        quitar.append(a)\n",
    "        #print(df.iloc[a][-2])\n",
    "df=df.drop(quitar)\n",
    "#print(df)\n",
    "\n",
    "df=df.reset_index(drop=True)\n",
    "\n",
    "\n",
    "#Quitar los eventos con - sb\n",
    "ndf=pd.DataFrame(df)\n",
    "quitar=[]\n",
    "for a in range(len(df.srbhconcmeh)):\n",
    "    #print(df.iloc[a][-1])\n",
    "    if ndf.iloc[a][-1] == '-':\n",
    "        #print(a)\n",
    "        quitar.append(a)\n",
    "        #print(df.iloc[a][-1])\n",
    "df=df.drop(quitar)\n",
    "#print(df)"
   ]
  },
  {
   "cell_type": "code",
   "execution_count": null,
   "metadata": {},
   "outputs": [],
   "source": []
  },
  {
   "cell_type": "code",
   "execution_count": 6,
   "metadata": {},
   "outputs": [
    {
     "name": "stderr",
     "output_type": "stream",
     "text": [
      "/tmp/ipykernel_21671/1779837953.py:51: SettingWithCopyWarning: \n",
      "A value is trying to be set on a copy of a slice from a DataFrame\n",
      "\n",
      "See the caveats in the documentation: https://pandas.pydata.org/pandas-docs/stable/user_guide/indexing.html#returning-a-view-versus-a-copy\n",
      "  df['V'][a]=int(df['V'][a])\n",
      "/tmp/ipykernel_21671/1779837953.py:55: SettingWithCopyWarning: \n",
      "A value is trying to be set on a copy of a slice from a DataFrame\n",
      "\n",
      "See the caveats in the documentation: https://pandas.pydata.org/pandas-docs/stable/user_guide/indexing.html#returning-a-view-versus-a-copy\n",
      "  df['srbhconcmeh'][a]=float(df['srbhconcmeh'][a])\n"
     ]
    }
   ],
   "source": [
    "#\n",
    "#FÓRMULAS USADAS\n",
    "#\n",
    "#v=(2/f)(df/dt)*H\n",
    "#Considerando f como f_i\n",
    "#v=(2/f_i)(df/dt)*H\n",
    "\n",
    "#H=(ndr/dn)\n",
    "#Considerando n como n_m\n",
    "#H=(n_m*dr/dn)\n",
    "#____________________________________________________\n",
    "#dr\n",
    "#para la distancia heliocéntrica\n",
    "# Si Rd=(no/ne)**.5, entonces\n",
    "##dr=-(no**.5)/(2*(ne)**(3/2))\n",
    "\n",
    "#dn\n",
    "#para la delta de densidad de partículas\n",
    "##dn=1/(2df/9000)**2\n",
    "\n",
    "#n\n",
    "#para la densidad (media) se considera que\n",
    "#Si para un plasma neutro n=2ne (considerando p+, y e-), y\n",
    "#ne[cm-3]=(fp/9000)**2\n",
    "#Y con para la frecuencia media\n",
    "#f_m=f_i+df/2\n",
    "#entonces\n",
    "#n_m= (2* ((f_i+df/2)/9000)**2)\n",
    "#____________________________________________________\n",
    "\n",
    "\n",
    "# Para Δf\n",
    "df.Δt=df.Δt*60\n",
    "deltaefe=df.f_i-df.f_f\n",
    "\n",
    "\n",
    "#VELOCIDAD\n",
    "#Considerando H=L=3.6e5\n",
    "#y vel inicial con f_1\n",
    "H=L=3.6e5\n",
    "vel=(((2*H)/(df.f_i))*((deltaefe)/(df.Δt)))\n",
    "\n",
    "#Considerando f media\n",
    "efe=df.f_i-(deltaefe/2)\n",
    "#f en MHz, t en s, \n",
    "velocidad=(deltaefe/df.Δt)*(2*L)/efe\n",
    "\n",
    "df=df.assign(Vel=velocidad)\n",
    "for a in range(len(df['V'])):\n",
    "    if df['V'][a]!='-':\n",
    "        df['V'][a]=int(df['V'][a])\n",
    "\n",
    "for a in range(len(df['V'])):\n",
    "    if df['srbhconcmeh'][a]!='-':\n",
    "        df['srbhconcmeh'][a]=float(df['srbhconcmeh'][a])"
   ]
  },
  {
   "cell_type": "code",
   "execution_count": null,
   "metadata": {},
   "outputs": [],
   "source": []
  },
  {
   "cell_type": "code",
   "execution_count": null,
   "metadata": {},
   "outputs": [],
   "source": []
  },
  {
   "cell_type": "code",
   "execution_count": null,
   "metadata": {},
   "outputs": [],
   "source": []
  },
  {
   "cell_type": "code",
   "execution_count": 7,
   "metadata": {
    "scrolled": true
   },
   "outputs": [],
   "source": [
    "#para relaconar con densidad las frecuencias en Hz\n",
    "#para convertir de 1/cm3 a 1/m3 multiplicar cm por 1e-6\n",
    "#df.f_i=df.f_i*10e6\n",
    "#df.f_f=df.f_f*10e6\n",
    "##################################################\n",
    "\n",
    "#____________________________________________________\n",
    "#\n",
    "#Variables de la altura de escala de densidad \n",
    "#             o 'density scale height' (H)\n",
    "#\n"
   ]
  },
  {
   "cell_type": "code",
   "execution_count": 8,
   "metadata": {},
   "outputs": [
    {
     "name": "stderr",
     "output_type": "stream",
     "text": [
      "/tmp/ipykernel_21671/1830145487.py:14: FutureWarning: The frame.append method is deprecated and will be removed from pandas in a future version. Use pandas.concat instead.\n",
      "  mexar=mexar.append(df.iloc[a])\n",
      "/tmp/ipykernel_21671/1830145487.py:14: FutureWarning: The frame.append method is deprecated and will be removed from pandas in a future version. Use pandas.concat instead.\n",
      "  mexar=mexar.append(df.iloc[a])\n",
      "/tmp/ipykernel_21671/1830145487.py:14: FutureWarning: The frame.append method is deprecated and will be removed from pandas in a future version. Use pandas.concat instead.\n",
      "  mexar=mexar.append(df.iloc[a])\n",
      "/tmp/ipykernel_21671/1830145487.py:14: FutureWarning: The frame.append method is deprecated and will be removed from pandas in a future version. Use pandas.concat instead.\n",
      "  mexar=mexar.append(df.iloc[a])\n",
      "/tmp/ipykernel_21671/1830145487.py:14: FutureWarning: The frame.append method is deprecated and will be removed from pandas in a future version. Use pandas.concat instead.\n",
      "  mexar=mexar.append(df.iloc[a])\n",
      "/tmp/ipykernel_21671/1830145487.py:14: FutureWarning: The frame.append method is deprecated and will be removed from pandas in a future version. Use pandas.concat instead.\n",
      "  mexar=mexar.append(df.iloc[a])\n",
      "/tmp/ipykernel_21671/1830145487.py:14: FutureWarning: The frame.append method is deprecated and will be removed from pandas in a future version. Use pandas.concat instead.\n",
      "  mexar=mexar.append(df.iloc[a])\n",
      "/tmp/ipykernel_21671/1830145487.py:14: FutureWarning: The frame.append method is deprecated and will be removed from pandas in a future version. Use pandas.concat instead.\n",
      "  mexar=mexar.append(df.iloc[a])\n",
      "/tmp/ipykernel_21671/1830145487.py:14: FutureWarning: The frame.append method is deprecated and will be removed from pandas in a future version. Use pandas.concat instead.\n",
      "  mexar=mexar.append(df.iloc[a])\n",
      "/tmp/ipykernel_21671/1830145487.py:14: FutureWarning: The frame.append method is deprecated and will be removed from pandas in a future version. Use pandas.concat instead.\n",
      "  mexar=mexar.append(df.iloc[a])\n",
      "/tmp/ipykernel_21671/1830145487.py:10: FutureWarning: The frame.append method is deprecated and will be removed from pandas in a future version. Use pandas.concat instead.\n",
      "  lancea=lancea.append(df.iloc[a])\n",
      "/tmp/ipykernel_21671/1830145487.py:12: FutureWarning: The frame.append method is deprecated and will be removed from pandas in a future version. Use pandas.concat instead.\n",
      "  lanceb=lanceb.append(df.iloc[a])\n",
      "/tmp/ipykernel_21671/1830145487.py:14: FutureWarning: The frame.append method is deprecated and will be removed from pandas in a future version. Use pandas.concat instead.\n",
      "  mexar=mexar.append(df.iloc[a])\n",
      "/tmp/ipykernel_21671/1830145487.py:14: FutureWarning: The frame.append method is deprecated and will be removed from pandas in a future version. Use pandas.concat instead.\n",
      "  mexar=mexar.append(df.iloc[a])\n",
      "/tmp/ipykernel_21671/1830145487.py:10: FutureWarning: The frame.append method is deprecated and will be removed from pandas in a future version. Use pandas.concat instead.\n",
      "  lancea=lancea.append(df.iloc[a])\n",
      "/tmp/ipykernel_21671/1830145487.py:12: FutureWarning: The frame.append method is deprecated and will be removed from pandas in a future version. Use pandas.concat instead.\n",
      "  lanceb=lanceb.append(df.iloc[a])\n",
      "/tmp/ipykernel_21671/1830145487.py:14: FutureWarning: The frame.append method is deprecated and will be removed from pandas in a future version. Use pandas.concat instead.\n",
      "  mexar=mexar.append(df.iloc[a])\n",
      "/tmp/ipykernel_21671/1830145487.py:10: FutureWarning: The frame.append method is deprecated and will be removed from pandas in a future version. Use pandas.concat instead.\n",
      "  lancea=lancea.append(df.iloc[a])\n",
      "/tmp/ipykernel_21671/1830145487.py:12: FutureWarning: The frame.append method is deprecated and will be removed from pandas in a future version. Use pandas.concat instead.\n",
      "  lanceb=lanceb.append(df.iloc[a])\n",
      "/tmp/ipykernel_21671/1830145487.py:10: FutureWarning: The frame.append method is deprecated and will be removed from pandas in a future version. Use pandas.concat instead.\n",
      "  lancea=lancea.append(df.iloc[a])\n",
      "/tmp/ipykernel_21671/1830145487.py:12: FutureWarning: The frame.append method is deprecated and will be removed from pandas in a future version. Use pandas.concat instead.\n",
      "  lanceb=lanceb.append(df.iloc[a])\n",
      "/tmp/ipykernel_21671/1830145487.py:10: FutureWarning: The frame.append method is deprecated and will be removed from pandas in a future version. Use pandas.concat instead.\n",
      "  lancea=lancea.append(df.iloc[a])\n",
      "/tmp/ipykernel_21671/1830145487.py:12: FutureWarning: The frame.append method is deprecated and will be removed from pandas in a future version. Use pandas.concat instead.\n",
      "  lanceb=lanceb.append(df.iloc[a])\n",
      "/tmp/ipykernel_21671/1830145487.py:10: FutureWarning: The frame.append method is deprecated and will be removed from pandas in a future version. Use pandas.concat instead.\n",
      "  lancea=lancea.append(df.iloc[a])\n",
      "/tmp/ipykernel_21671/1830145487.py:12: FutureWarning: The frame.append method is deprecated and will be removed from pandas in a future version. Use pandas.concat instead.\n",
      "  lanceb=lanceb.append(df.iloc[a])\n",
      "/tmp/ipykernel_21671/1830145487.py:14: FutureWarning: The frame.append method is deprecated and will be removed from pandas in a future version. Use pandas.concat instead.\n",
      "  mexar=mexar.append(df.iloc[a])\n",
      "/tmp/ipykernel_21671/1830145487.py:10: FutureWarning: The frame.append method is deprecated and will be removed from pandas in a future version. Use pandas.concat instead.\n",
      "  lancea=lancea.append(df.iloc[a])\n",
      "/tmp/ipykernel_21671/1830145487.py:12: FutureWarning: The frame.append method is deprecated and will be removed from pandas in a future version. Use pandas.concat instead.\n",
      "  lanceb=lanceb.append(df.iloc[a])\n"
     ]
    }
   ],
   "source": [
    "lancea=pd.DataFrame()\n",
    "lanceb=pd.DataFrame()\n",
    "mexar=pd.DataFrame()\n",
    "#instr=pd.DataFrame(columns=['A','B','C'])\n",
    "#print(instr)\n",
    "\n",
    "#SEPARAR EN UN CUADRO DE DATOS A CADA INSTRUMENTO\n",
    "for a in range(len(df['VISTO POR'])):\n",
    "    if ('LANCE-A') in (df['VISTO POR'][a]):\n",
    "        lancea=lancea.append(df.iloc[a])\n",
    "    if ('LANCE-B') in (df['VISTO POR'][a]):\n",
    "        lanceb=lanceb.append(df.iloc[a])\n",
    "    if ('MEXART') in (df['VISTO POR'][a]):\n",
    "        mexar=mexar.append(df.iloc[a])\n",
    "\n",
    "#print(lancea)"
   ]
  },
  {
   "cell_type": "code",
   "execution_count": null,
   "metadata": {},
   "outputs": [],
   "source": []
  },
  {
   "cell_type": "code",
   "execution_count": null,
   "metadata": {},
   "outputs": [],
   "source": []
  },
  {
   "cell_type": "code",
   "execution_count": null,
   "metadata": {},
   "outputs": [],
   "source": []
  },
  {
   "cell_type": "code",
   "execution_count": null,
   "metadata": {},
   "outputs": [],
   "source": []
  },
  {
   "cell_type": "code",
   "execution_count": null,
   "metadata": {},
   "outputs": [],
   "source": [
    "\n"
   ]
  },
  {
   "cell_type": "code",
   "execution_count": 9,
   "metadata": {},
   "outputs": [],
   "source": [
    "#print(mexar)"
   ]
  },
  {
   "cell_type": "code",
   "execution_count": null,
   "metadata": {},
   "outputs": [],
   "source": []
  },
  {
   "cell_type": "code",
   "execution_count": 10,
   "metadata": {},
   "outputs": [
    {
     "name": "stdout",
     "output_type": "stream",
     "text": [
      "       Fecha         Hora  f_i  f_f    Δt TIPO  \\\n",
      "0   20151016  13:28-13:30  145  100   120   II   \n",
      "1   20151104  13:43-13:46   90   70   120   II   \n",
      "2   20160504  14:03-14:09   65   46   360   II   \n",
      "3   20171020  23:30-23:38  125   60   480   II   \n",
      "4   20170912  19:12-19:18   80   50   360   II   \n",
      "5   20210507  19:09-19:18   90   50   540   II   \n",
      "6   20210923  15:28-15:32  120   50   240  II?   \n",
      "7   20211028  15:28-15:50   90   50  1320   II   \n",
      "8   20220302  17:39-17:56   90   50  1020   II   \n",
      "9   20220314  17:21-17:37   70   50   960   II   \n",
      "10  20220330  17:31-17:55  100   50   840   II   \n",
      "11  20220402  13:23-13:38   90   50   900   II   \n",
      "12  20220510  13:58-14:22   80   45  1440   II   \n",
      "13  20220525  18:17-18:23   80   55   360   II   \n",
      "\n",
      "                                       VISTO POR      Fecha1 Hora_i Hora_pk  \\\n",
      "0                                         MEXART  2015-10-16  13:20   13:24   \n",
      "1                                         MEXART  2015-11-04  13:31   13:52   \n",
      "2                                         MEXART  2016-05-04  13:41   13:51   \n",
      "3                                         MEXART  2017-10-20  23:10   23:28   \n",
      "4                                         MEXART  2017-09-12  19:03   19:20   \n",
      "5                                         MEXART  2021-05-07  18:43   19:04   \n",
      "6                                         MEXART  2021-09-23  15:23   15:28   \n",
      "7                                         MEXART  2021-10-28  15:17   15:35   \n",
      "8                                         MEXART  2022-03-02  17:31   17:39   \n",
      "9                                         MEXART           -      -       -   \n",
      "10  MEXART, MEXICO-LANCE-A, MEXICO-LANCE-B, UNAM  2022-03-30  17:21   17:37   \n",
      "11                                        MEXART  2022-04-02  12:56   13:55   \n",
      "12        MEXART, MEXICO-LANCE-A, MEXICO-LANCE-B  2022-05-10  13:50   13:55   \n",
      "13        MEXART, MEXICO-LANCE-A, MEXICO-LANCE-B  2022-05-25  18:09   18:24   \n",
      "\n",
      "    ... Clase   Lugar    RA    Fecha2 Hora.1   PA    W     V  srbhconcmeh  \\\n",
      "0   ...  C4.3  S13E82  2435  20151016  13:36  103   16   412          3.5   \n",
      "1   ...  M3.7  N08W02  2443  20151104  14:24  204  226   466          3.8   \n",
      "2   ...  C1.3  N06W61  2535  20160504  14:24  204  226   466          3.0   \n",
      "3   ...  M1.1  S12E88  2685  20171021  00:00   94   86   337          3.6   \n",
      "4   ...  C1.6  N07E41  2680  20170912  19:12  271  113   476          1.8   \n",
      "5   ...  M3.9  N17E78  2822  20210507  19:24   79   72   625          2.5   \n",
      "6   ...  M1.8  S29E16  2871  20210923  16:24  176   58   395          0.9   \n",
      "7   ...  X1.0  S28W01  2887  20211028  16:00  191  340  1077          1.1   \n",
      "8   ...  M2.0  N15E29  2958  20220302  18:24   79   56   339          3.5   \n",
      "9   ...     -       -     -  20220314  17:36  268  106   600          2.0   \n",
      "10  ...  X1.3  N13W31  2975  20220330  18:00  278  138   577          1.8   \n",
      "11  ...  M3.9  N12W68  2984  20220402  13:36  263  104   844          1.0   \n",
      "12  ...  X1.5  S29W04  3006  20220510  14:36  214   10   172          1.1   \n",
      "13  ...  M1.3  S19W41  3016  20220525  18:36  248  118   762          1.4   \n",
      "\n",
      "            Vel  \n",
      "0   2204.081633  \n",
      "1   1500.000000  \n",
      "2    684.684685  \n",
      "3   1054.054054  \n",
      "4    923.076923  \n",
      "5    761.904762  \n",
      "6   2470.588235  \n",
      "7    311.688312  \n",
      "8    403.361345  \n",
      "9    250.000000  \n",
      "10   571.428571  \n",
      "11   457.142857  \n",
      "12   280.000000  \n",
      "13   740.740741  \n",
      "\n",
      "[14 rows x 21 columns]\n"
     ]
    }
   ],
   "source": [
    "    #LANCES VEN A MENOS DE 90 MHz\n",
    "lancea=lancea.reset_index(drop=True)\n",
    "lanceb=lanceb.reset_index(drop=True)\n",
    "\n",
    "for a in range(len(lancea['f_i'])):\n",
    "        if (lancea.at[a,'f_i'])>90:\n",
    "            lancea.at[a,'f_i']=90\n",
    "        \n",
    "for a in range(len(lanceb['f_i'])):\n",
    "        if (lanceb.at[a,'f_i'])>90:\n",
    "            lanceb.at[a,'f_i']=90\n",
    "        \n",
    "mexar=mexar.reset_index(drop=True)\n",
    "print(mexar)\n"
   ]
  },
  {
   "cell_type": "code",
   "execution_count": null,
   "metadata": {},
   "outputs": [],
   "source": []
  },
  {
   "cell_type": "code",
   "execution_count": 11,
   "metadata": {},
   "outputs": [
    {
     "data": {
      "image/png": "[encoded data removed]",
      "text/plain": [
       "<Figure size 576x288 with 1 Axes>"
      ]
     },
     "metadata": {
      "needs_background": "light"
     },
     "output_type": "display_data"
    }
   ],
   "source": [
    "#Distancia vs frecuencia inicial           juntas\n",
    "\n",
    "plt.rcParams[\"figure.figsize\"] = [8.0, 4.0]\n",
    "#plt.rcParams[\"figure.autolayout\"] = True\n",
    "        \n",
    "mexar.sort_values('srbhconcmeh', inplace=True)\n",
    "lancea.sort_values('srbhconcmeh', inplace=True)\n",
    "lanceb.sort_values('srbhconcmeh', inplace=True)\n",
    "\n",
    "fig, ax = plt.subplots()\n",
    "\n",
    "mexar.plot('srbhconcmeh',y='f_i', kind='scatter', color='r',title='Distancia vs. Frecuencia inicial (ER-II)', marker='x', label='MEXART',s=70,ax=ax)\n",
    "lancea.plot('srbhconcmeh',y='f_i',ax=ax, kind='scatter', color='b',marker='|',s=100,label='LANCE-A',)\n",
    "\n",
    "lanceb.plot('srbhconcmeh',y='f_i',ax=ax,xlabel='Distancia ($R_☉$)',ylabel='Frecuencia Inicial (MHz)', kind='scatter', color='g',marker='_',s=100,label='LANCE-B',)\n",
    "\n",
    "plt.legend()\n",
    "\n",
    "plt.savefig('fivsdist_todas.svg')\n",
    "plt.show()"
   ]
  },
  {
   "cell_type": "code",
   "execution_count": null,
   "metadata": {},
   "outputs": [],
   "source": []
  },
  {
   "cell_type": "code",
   "execution_count": 12,
   "metadata": {},
   "outputs": [],
   "source": [
    "# Para Δf\n",
    "mexar.Δt=mexar.Δt/60\n",
    "lancea.Δt=lancea.Δt/60\n",
    "lanceb.Δt=lanceb.Δt/60"
   ]
  },
  {
   "cell_type": "code",
   "execution_count": 13,
   "metadata": {
    "scrolled": false
   },
   "outputs": [
    {
     "data": {
      "image/png": "[encoded data removed]",
      "text/plain": [
       "<Figure size 576x288 with 1 Axes>"
      ]
     },
     "metadata": {
      "needs_background": "light"
     },
     "output_type": "display_data"
    }
   ],
   "source": [
    "#duracion vs frecuencia inicial           juntas\n",
    "\n",
    "plt.rcParams[\"figure.figsize\"] = [8.0, 4.0]\n",
    "#plt.rcParams[\"figure.autolayout\"] = True\n",
    "        \n",
    "mexar.sort_values('srbhconcmeh', inplace=True)\n",
    "lancea.sort_values('srbhconcmeh', inplace=True)\n",
    "lanceb.sort_values('srbhconcmeh', inplace=True)\n",
    "\n",
    "fig, ax = plt.subplots()\n",
    "\n",
    "mexar.plot('Δt',y='f_i', kind='scatter', color='r',title='Duración vs. Frecuencia inicial (ER-II)', marker='x', label='MEXART',s=70,ax=ax)\n",
    "lancea.plot('Δt',y='f_i',ax=ax, kind='scatter', color='b',marker='|',s=100,label='LANCE-A',)\n",
    "\n",
    "lanceb.plot('Δt',y='f_i',ax=ax,xlabel='Duración ($min$)',ylabel='Frecuencia Inicial (MHz)', kind='scatter', color='g',marker='_',s=100,label='LANCE-B',)\n",
    "\n",
    "plt.legend()\n",
    "\n",
    "plt.savefig('fivsduracion_todas.svg')\n",
    "plt.show()"
   ]
  },
  {
   "cell_type": "code",
   "execution_count": null,
   "metadata": {},
   "outputs": [],
   "source": []
  },
  {
   "cell_type": "code",
   "execution_count": null,
   "metadata": {},
   "outputs": [],
   "source": []
  },
  {
   "cell_type": "code",
   "execution_count": 14,
   "metadata": {
    "scrolled": true
   },
   "outputs": [
    {
     "data": {
      "image/png": "[encoded data removed]",
      "text/plain": [
       "<Figure size 576x576 with 1 Axes>"
      ]
     },
     "metadata": {
      "needs_background": "light"
     },
     "output_type": "display_data"
    }
   ],
   "source": [
    "#velocidad calculada vs  vista                 (todas)\n",
    "\n",
    "plt.rcParams[\"figure.figsize\"] = [8.0, 8.0]\n",
    "#plt.rcParams[\"figure.autolayout\"] = True\n",
    "        \n",
    "mexar.sort_values('srbhconcmeh', inplace=True)\n",
    "lancea.sort_values('srbhconcmeh', inplace=True)\n",
    "lanceb.sort_values('srbhconcmeh', inplace=True)\n",
    "\n",
    "fig, ax = plt.subplots()\n",
    "ax.set_ylim((0,2600))\n",
    "ax.set_xlim((0,2600))\n",
    "mexar.plot('V',y='Vel', kind='scatter', color='r',title='Velocidad usando Tipo II (ER-II) vs. usando SOHO/Lasco', marker='x',s=70, label='MEXART',ax=ax)\n",
    "lancea.plot('V',y='Vel',ax=ax, kind='scatter', color='b',marker='|',s=100,label='LANCE-A',)\n",
    "\n",
    "lanceb.plot('V',y='Vel',grid=True,ax=ax,xlabel='Velocidad usando SOHO/Lasco ($km/s$)',ylabel='Velocidad usando ER-II ($km/s$)', kind='scatter', color='g',marker='_',s=100,label='LANCE-B',)\n",
    "plt.legend()\n",
    "diag_line, = ax.plot(ax.get_xlim(), ax.get_ylim(), ls=\"--\", c=\".3\")\n",
    "plt.savefig('vcalcvsobs_todas.svg')\n",
    "plt.show()"
   ]
  },
  {
   "cell_type": "code",
   "execution_count": 15,
   "metadata": {},
   "outputs": [
    {
     "name": "stdout",
     "output_type": "stream",
     "text": [
      "       Fecha         Hora  f_i  f_f    Δt TIPO  \\\n",
      "0   20151016  13:28-13:30  145  100   120   II   \n",
      "1   20151104  13:43-13:46   90   70   120   II   \n",
      "2   20160504  14:03-14:09   65   46   360   II   \n",
      "3   20171020  23:30-23:38  125   60   480   II   \n",
      "4   20170912  19:12-19:18   80   50   360   II   \n",
      "5   20210507  19:09-19:18   90   50   540   II   \n",
      "6   20210923  15:28-15:32  120   50   240  II?   \n",
      "7   20211028  15:28-15:50   90   50  1320   II   \n",
      "8   20220302  17:39-17:56   90   50  1020   II   \n",
      "9   20220314  17:21-17:37   70   50   960   II   \n",
      "10  20220330  17:31-17:55  100   50   840   II   \n",
      "11  20220402  13:23-13:38   90   50   900   II   \n",
      "12  20220510  13:58-14:22   80   45  1440   II   \n",
      "13  20220511  18:39-18:50   90   45   660   II   \n",
      "14  20220511  18:57-19:15   80   45   540   II   \n",
      "15  20220524  22:22-22:32   60   45   600   II   \n",
      "16  20220525  18:17-18:23   80   55   360   II   \n",
      "17  20220528  16:00-16:11   55   45   660   II   \n",
      "\n",
      "                                       VISTO POR      Fecha1 Hora_i Hora_pk  \\\n",
      "0                                         MEXART  2015-10-16  13:20   13:24   \n",
      "1                                         MEXART  2015-11-04  13:31   13:52   \n",
      "2                                         MEXART  2016-05-04  13:41   13:51   \n",
      "3                                         MEXART  2017-10-20  23:10   23:28   \n",
      "4                                         MEXART  2017-09-12  19:03   19:20   \n",
      "5                                         MEXART  2021-05-07  18:43   19:04   \n",
      "6                                         MEXART  2021-09-23  15:23   15:28   \n",
      "7                                         MEXART  2021-10-28  15:17   15:35   \n",
      "8                                         MEXART  2022-03-02  17:31   17:39   \n",
      "9                                         MEXART           -      -       -   \n",
      "10  MEXART, MEXICO-LANCE-A, MEXICO-LANCE-B, UNAM  2022-03-30  17:21   17:37   \n",
      "11                                        MEXART  2022-04-02  12:56   13:55   \n",
      "12        MEXART, MEXICO-LANCE-A, MEXICO-LANCE-B  2022-05-10  13:50   13:55   \n",
      "13                MEXICO-LANCE-A, MEXICO-LANCE-B  2022-05-11  18:08   18:58   \n",
      "14                MEXICO-LANCE-A, MEXICO-LANCE-B  2022-05-11  18:13   18:58   \n",
      "15                MEXICO-LANCE-A, MEXICO-LANCE-B  2022-05-24  22:03   22:17   \n",
      "16        MEXART, MEXICO-LANCE-A, MEXICO-LANCE-B  2022-05-25  18:09   18:24   \n",
      "17              (MEXICO-LANCE-A, MEXICO-LANCE-B)  2022-05-28  15:30   15:43   \n",
      "\n",
      "    ... Clase   Lugar    RA    Fecha2 Hora.1   PA    W     V srbhconcmeh  \\\n",
      "0   ...  C4.3  S13E82  2435  20151016  13:36  103   16   412         3.5   \n",
      "1   ...  M3.7  N08W02  2443  20151104  14:24  204  226   466         3.8   \n",
      "2   ...  C1.3  N06W61  2535  20160504  14:24  204  226   466         3.0   \n",
      "3   ...  M1.1  S12E88  2685  20171021  00:00   94   86   337         3.6   \n",
      "4   ...  C1.6  N07E41  2680  20170912  19:12  271  113   476         1.8   \n",
      "5   ...  M3.9  N17E78  2822  20210507  19:24   79   72   625         2.5   \n",
      "6   ...  M1.8  S29E16  2871  20210923  16:24  176   58   395         0.9   \n",
      "7   ...  X1.0  S28W01  2887  20211028  16:00  191  340  1077         1.1   \n",
      "8   ...  M2.0  N15E29  2958  20220302  18:24   79   56   339         3.5   \n",
      "9   ...     -       -     -  20220314  17:36  268  106   600         2.0   \n",
      "10  ...  X1.3  N13W31  2975  20220330  18:00  278  138   577         1.8   \n",
      "11  ...  M3.9  N12W68  2984  20220402  13:36  263  104   844         1.0   \n",
      "12  ...  X1.5  S29W04  3006  20220510  14:36  214   10   172         1.1   \n",
      "13  ...  M2.7  S17W89  3004  20220511  20:12  197  100   637         2.1   \n",
      "14  ...  M2.6  S17W89  3004  20220511  19:48  339  272   781         4.2   \n",
      "15  ...  C5.1  S11E79  3023  20220524  23:12   77  128   397         1.0   \n",
      "16  ...  M1.3  S19W41  3016  20220525  18:36  248  118   762         1.4   \n",
      "17  ...  C1.3  S18E49  3023  20220528  16:00  227   32  1644         5.0   \n",
      "\n",
      "            Vel  \n",
      "0   2204.081633  \n",
      "1   1500.000000  \n",
      "2    684.684685  \n",
      "3   1054.054054  \n",
      "4    923.076923  \n",
      "5    761.904762  \n",
      "6   2470.588235  \n",
      "7    311.688312  \n",
      "8    403.361345  \n",
      "9    250.000000  \n",
      "10   571.428571  \n",
      "11   457.142857  \n",
      "12   280.000000  \n",
      "13   727.272727  \n",
      "14   746.666667  \n",
      "15   342.857143  \n",
      "16   740.740741  \n",
      "17   218.181818  \n",
      "\n",
      "[18 rows x 21 columns]\n"
     ]
    }
   ],
   "source": [
    "print(df)"
   ]
  },
  {
   "cell_type": "code",
   "execution_count": 16,
   "metadata": {},
   "outputs": [
    {
     "data": {
      "text/plain": [
       "(-0.35093080801306964, 0.15332874494389756)"
      ]
     },
     "execution_count": 16,
     "metadata": {},
     "output_type": "execute_result"
    }
   ],
   "source": [
    "#    Pearson’s r (0,4063—same as we got in Excel, R, etc.)\n",
    " #   A p-value. This is the probability that the true value of r is zero (no correlation).\n",
    "\n",
    "stats.pearsonr(df['V'], df['Vel'])"
   ]
  },
  {
   "cell_type": "code",
   "execution_count": 17,
   "metadata": {},
   "outputs": [
    {
     "data": {
      "text/plain": [
       "(-0.3183954897028031, 0.26723814043372507)"
      ]
     },
     "execution_count": 17,
     "metadata": {},
     "output_type": "execute_result"
    }
   ],
   "source": [
    "stats.pearsonr(mexar['Vel'], mexar['V'])"
   ]
  },
  {
   "cell_type": "code",
   "execution_count": 18,
   "metadata": {},
   "outputs": [
    {
     "data": {
      "text/plain": [
       "(-0.14147654656175873, 0.7622183765543727)"
      ]
     },
     "execution_count": 18,
     "metadata": {},
     "output_type": "execute_result"
    }
   ],
   "source": [
    "stats.pearsonr(lancea['Vel'], lancea['V'])"
   ]
  },
  {
   "cell_type": "code",
   "execution_count": 19,
   "metadata": {},
   "outputs": [
    {
     "data": {
      "text/plain": [
       "(-0.14147654656175873, 0.7622183765543727)"
      ]
     },
     "execution_count": 19,
     "metadata": {},
     "output_type": "execute_result"
    }
   ],
   "source": [
    "stats.pearsonr(lanceb['Vel'], lanceb['V'])\n"
   ]
  },
  {
   "cell_type": "code",
   "execution_count": null,
   "metadata": {},
   "outputs": [],
   "source": []
  }
 ],
 "metadata": {
  "kernelspec": {
   "display_name": "Python 3 (ipykernel)",
   "language": "python",
   "name": "python3"
  },
  "language_info": {
   "codemirror_mode": {
    "name": "ipython",
    "version": 3
   },
   "file_extension": ".py",
   "mimetype": "text/x-python",
   "name": "python",
   "nbconvert_exporter": "python",
   "pygments_lexer": "ipython3",
   "version": "3.10.6"
  }
 },
 "nbformat": 4,
 "nbformat_minor": 4
}
